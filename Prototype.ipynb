{
 "cells": [
  {
   "cell_type": "code",
   "execution_count": 138,
   "metadata": {
    "collapsed": false
   },
   "outputs": [
    {
     "name": "stdout",
     "output_type": "stream",
     "text": [
      "The autoreload extension is already loaded. To reload it, use:\n",
      "  %reload_ext autoreload\n"
     ]
    }
   ],
   "source": [
    "%matplotlib inline\n",
    "%load_ext autoreload \n",
    "%autoreload 2\n",
    "\n",
    "from __future__ import division\n",
    "\n",
    "import numpy as np\n",
    "import os\n",
    "import mne\n",
    "import pandas as pd\n",
    "import matplotlib.pyplot as plt\n",
    "\n",
    "from scipy import io\n",
    "\n",
    "from data_utils import *\n",
    "from preprocessing import *"
   ]
  },
  {
   "cell_type": "code",
   "execution_count": 158,
   "metadata": {
    "collapsed": false
   },
   "outputs": [
    {
     "name": "stdout",
     "output_type": "stream",
     "text": [
      "Converting time column to int64...\n"
     ]
    }
   ],
   "source": [
    "X, Y = import_data_windows()\n",
    "X, Y = X[0], Y[0]\n",
    "\n",
    "train, valid, test = train_test_split(X, Y)"
   ]
  },
  {
   "cell_type": "code",
   "execution_count": 132,
   "metadata": {
    "collapsed": false
   },
   "outputs": [
    {
     "name": "stdout",
     "output_type": "stream",
     "text": [
      "2 11 4947 64 \n",
      "11 4847 \n"
     ]
    }
   ],
   "source": [
    "mapper = lambda x,y: window(x, y, width=100)\n",
    "dim(valid)\n",
    "dim(zip(*map(mapper, *valid))[1])"
   ]
  },
  {
   "cell_type": "code",
   "execution_count": 165,
   "metadata": {
    "collapsed": false
   },
   "outputs": [
    {
     "name": "stdout",
     "output_type": "stream",
     "text": [
      "2 132 4958 64 \n",
      "32\n",
      "2 32 100 4958 64 \n"
     ]
    }
   ],
   "source": [
    "dim(train)\n"
   ]
  },
  {
   "cell_type": "code",
   "execution_count": 181,
   "metadata": {
    "collapsed": false
   },
   "outputs": [
    {
     "name": "stdout",
     "output_type": "stream",
     "text": [
      "(3, 2, 1, 4)\n",
      "6 1 4 \n"
     ]
    }
   ],
   "source": [
    "a = np.ones((3,2,1,4))\n",
    "\n",
    "print a.shape\n",
    "\n",
    "dim(dim_collapse(a))"
   ]
  },
  {
   "cell_type": "code",
   "execution_count": 119,
   "metadata": {
    "collapsed": false
   },
   "outputs": [
    {
     "name": "stdout",
     "output_type": "stream",
     "text": [
      "1.11.1\n"
     ]
    }
   ],
   "source": []
  },
  {
   "cell_type": "code",
   "execution_count": null,
   "metadata": {
    "collapsed": false
   },
   "outputs": [],
   "source": [
    "d = standard_import()\n",
    "dim(d)\n",
    "(X_train, Y_train), (X_valid, Y_valid), (X_test, Y_test) = d[0]"
   ]
  },
  {
   "cell_type": "code",
   "execution_count": null,
   "metadata": {
    "collapsed": true
   },
   "outputs": [],
   "source": [
    "### helper function to apply \n",
    "def map_function(function, data, depth='subject', base='data'):\n",
    "    if depth == 'subject':\n",
    "        # base mapper\n",
    "        mapper = function\n",
    "        # map x,y instances to function\n",
    "        mapper2 = lambda i : map(mapper, i)\n",
    "        # map x,y pairs to function\n",
    "        mapper3 = lambda pair : map(mapper2, pair)\n",
    "        # map subjects to function\n",
    "        mapper4 = lambda subj : map(mapper3, subj)\n",
    "        #\n",
    "        return map(mapper4, data)\n",
    "        \n",
    "        \n",
    "    \n",
    "        "
   ]
  }
 ],
 "metadata": {
  "anaconda-cloud": {},
  "kernelspec": {
   "display_name": "Python [default]",
   "language": "python",
   "name": "python2"
  },
  "language_info": {
   "codemirror_mode": {
    "name": "ipython",
    "version": 2
   },
   "file_extension": ".py",
   "mimetype": "text/x-python",
   "name": "python",
   "nbconvert_exporter": "python",
   "pygments_lexer": "ipython2",
   "version": "2.7.12"
  }
 },
 "nbformat": 4,
 "nbformat_minor": 1
}
