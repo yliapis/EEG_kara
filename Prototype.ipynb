{
 "cells": [
  {
   "cell_type": "code",
   "execution_count": 18,
   "metadata": {
    "collapsed": false
   },
   "outputs": [
    {
     "name": "stdout",
     "output_type": "stream",
     "text": [
      "The autoreload extension is already loaded. To reload it, use:\n",
      "  %reload_ext autoreload\n"
     ]
    }
   ],
   "source": [
    "%matplotlib inline\n",
    "%load_ext autoreload\n",
    "\n",
    "from __future__ import division\n",
    "\n",
    "import numpy as np\n",
    "import os\n",
    "import mne\n",
    "import pandas as pd\n",
    "\n",
    "from scipy import io"
   ]
  },
  {
   "cell_type": "code",
   "execution_count": 20,
   "metadata": {
    "collapsed": false
   },
   "outputs": [
    {
     "name": "stdout",
     "output_type": "stream",
     "text": [
      "/home/UFAD/yliapis/data/karaOne/MM05/epoch_inds.mat\n",
      "/home/UFAD/yliapis/data/karaOne/MM08/epoch_inds.mat\n",
      "/home/UFAD/yliapis/data/karaOne/MM09/epoch_inds.mat\n",
      "/home/UFAD/yliapis/data/karaOne/MM10/epoch_inds.mat\n",
      "/home/UFAD/yliapis/data/karaOne/MM11/epoch_inds.mat\n",
      "/home/UFAD/yliapis/data/karaOne/MM12/epoch_inds.mat\n",
      "/home/UFAD/yliapis/data/karaOne/MM14/epoch_inds.mat\n",
      "/home/UFAD/yliapis/data/karaOne/MM15/epoch_inds.mat\n",
      "/home/UFAD/yliapis/data/karaOne/MM16/epoch_inds.mat\n",
      "/home/UFAD/yliapis/data/karaOne/MM18/epoch_inds.mat\n",
      "/home/UFAD/yliapis/data/karaOne/MM19/epoch_inds.mat\n",
      "/home/UFAD/yliapis/data/karaOne/MM20/epoch_inds.mat\n",
      "/home/UFAD/yliapis/data/karaOne/MM21/epoch_inds.mat\n"
     ]
    }
   ],
   "source": [
    "home = os.environ[\"HOME\"]\n",
    "data_root = home+\"/data/karaOne/\"\n",
    "\n",
    "data_dirs = [data_root+f+'/' for f in os.listdir(data_root)\n",
    "            if f[:2]=='MM']\n",
    "\n",
    "mapper = lambda root: [root+f for f in os.listdir(root) if f[-4:]=='.cnt'][0]\n",
    "cnt_files = sorted(map(mapper, data_dirs))\n",
    "\n",
    "mapper = lambda root: [root+f for f in os.listdir(root) if f=='epoch_inds.mat'][0]\n",
    "ind_files = sorted(map(mapper, data_dirs))\n",
    "\n",
    "lbl_files = lambda root: [root+f for f in os.listdir(root) if f=='.txt'][0]\n",
    "ind_files = sorted(map(mapper, data_dirs))\n",
    "\n",
    "for c in ind_files:\n",
    "    print c"
   ]
  },
  {
   "cell_type": "code",
   "execution_count": 52,
   "metadata": {
    "collapsed": false
   },
   "outputs": [
    {
     "name": "stdout",
     "output_type": "stream",
     "text": [
      "['thinking_inds', '__header__', '__globals__', 'clearing_inds', 'speaking_inds', '__version__']\n",
      "1.0\n"
     ]
    }
   ],
   "source": [
    "print d.keys()\n",
    "print d[d.keys()[5]]"
   ]
  },
  {
   "cell_type": "code",
   "execution_count": 47,
   "metadata": {
    "collapsed": false
   },
   "outputs": [
    {
     "name": "stdout",
     "output_type": "stream",
     "text": [
      "[[ 8233 13195]]\n"
     ]
    }
   ],
   "source": [
    "d = io.loadmat(ind_files[0])\n",
    "print d[d.keys()[3]].flatten()[0]\n",
    "dd = d[d.keys()[0]]\n",
    "a,b = d[d.keys()[0]].flatten()[0].flatten()"
   ]
  },
  {
   "cell_type": "code",
   "execution_count": 44,
   "metadata": {
    "collapsed": false
   },
   "outputs": [
    {
     "data": {
      "text/plain": [
       "(1, 165, 1, 2)"
      ]
     },
     "execution_count": 44,
     "metadata": {},
     "output_type": "execute_result"
    }
   ],
   "source": [
    "ddd = np.array(dd.tolist())\n",
    "ddd.shape"
   ]
  },
  {
   "cell_type": "code",
   "execution_count": 28,
   "metadata": {
    "collapsed": false
   },
   "outputs": [
    {
     "name": "stdout",
     "output_type": "stream",
     "text": [
      "thinking_inds 1\n",
      "clearing_inds 0\n",
      "speaking_inds 2\n"
     ]
    }
   ],
   "source": [
    "d['clearing_inds']\n",
    "label_dict = {'clearing_inds': 0, 'thinking_inds': 1, 'speaking_inds':2}\n",
    "\n",
    "for k,y in label_dict.items():\n",
    "    print k,y"
   ]
  },
  {
   "cell_type": "code",
   "execution_count": 56,
   "metadata": {
    "collapsed": false
   },
   "outputs": [
    {
     "data": {
      "text/plain": [
       "['FP1',\n",
       " 'FPZ',\n",
       " 'FP2',\n",
       " 'AF3',\n",
       " 'AF4',\n",
       " 'F7',\n",
       " 'F5',\n",
       " 'F3',\n",
       " 'F1',\n",
       " 'FZ',\n",
       " 'F2',\n",
       " 'F4',\n",
       " 'F6',\n",
       " 'F8',\n",
       " 'FT7',\n",
       " 'FC5',\n",
       " 'FC3',\n",
       " 'FC1',\n",
       " 'FCZ',\n",
       " 'FC2',\n",
       " 'FC4',\n",
       " 'FC6',\n",
       " 'FT8',\n",
       " 'T7',\n",
       " 'C5',\n",
       " 'C3',\n",
       " 'C1',\n",
       " 'CZ',\n",
       " 'C2',\n",
       " 'C4',\n",
       " 'C6',\n",
       " 'T8',\n",
       " 'M1',\n",
       " 'TP7',\n",
       " 'CP5',\n",
       " 'CP3',\n",
       " 'CP1',\n",
       " 'CPZ',\n",
       " 'CP2',\n",
       " 'CP4',\n",
       " 'CP6',\n",
       " 'TP8',\n",
       " 'M2',\n",
       " 'P7',\n",
       " 'P5',\n",
       " 'P3',\n",
       " 'P1',\n",
       " 'PZ',\n",
       " 'P2',\n",
       " 'P4',\n",
       " 'P6',\n",
       " 'P8',\n",
       " 'PO7',\n",
       " 'PO5',\n",
       " 'PO3',\n",
       " 'POZ',\n",
       " 'PO4',\n",
       " 'PO6',\n",
       " 'PO8',\n",
       " 'CB1',\n",
       " 'O1',\n",
       " 'OZ',\n",
       " 'O2',\n",
       " 'CB2',\n",
       " 'VEO',\n",
       " 'HEO',\n",
       " 'EKG',\n",
       " 'EMG',\n",
       " 'Trigger',\n",
       " 'STI 014']"
      ]
     },
     "execution_count": 56,
     "metadata": {},
     "output_type": "execute_result"
    }
   ],
   "source": [
    "#fdt = data_dirs[0]+'set_files/Acqusition 232 Data.fdt'\n",
    "cnt_file = cnt_files[1]\n",
    "f1 = mne.io.read_raw_cnt(cnt_file, None, date_format=\"dd/mm/yy\")\n",
    "f1.ch_names"
   ]
  },
  {
   "cell_type": "code",
   "execution_count": 12,
   "metadata": {
    "collapsed": false
   },
   "outputs": [
    {
     "name": "stdout",
     "output_type": "stream",
     "text": [
      "Converting time column to int64...\n",
      "Converting time column to int64...\n",
      "Converting time column to int64...\n",
      "Converting time column to int64...\n",
      "Converting time column to int64...\n",
      "Converting time column to int64...\n",
      "Converting time column to int64...\n",
      "Converting time column to int64...\n",
      "Converting time column to int64...\n",
      "Converting time column to int64...\n",
      "Converting time column to int64...\n",
      "Converting time column to int64...\n",
      "Converting time column to int64...\n"
     ]
    }
   ],
   "source": [
    "\n",
    "EEG_series = []\n",
    "for f in cnt_files:\n",
    "    EEG_series.append(mne.io.read_raw_cnt(f, None, date_format=\"dd/mm/yy\").to_data_frame())\n",
    "    \n",
    "    "
   ]
  },
  {
   "cell_type": "code",
   "execution_count": 15,
   "metadata": {
    "collapsed": false
   },
   "outputs": [],
   "source": [
    "def process_dataframe(df):\n",
    "    return df.iloc[:,:64].values"
   ]
  },
  {
   "cell_type": "code",
   "execution_count": 17,
   "metadata": {
    "collapsed": false
   },
   "outputs": [
    {
     "name": "stdout",
     "output_type": "stream",
     "text": [
      "float64\n"
     ]
    }
   ],
   "source": [
    "print process_dataframe(data).dtype"
   ]
  },
  {
   "cell_type": "code",
   "execution_count": 58,
   "metadata": {
    "collapsed": false
   },
   "outputs": [],
   "source": [
    "def import_data(ret_metadata=False):\n",
    "    # define root, filepath\n",
    "    home = os.environ[\"HOME\"]\n",
    "    data_root = home+\"/data/karaOne/\"\n",
    "    # get files\n",
    "    data_dirs = [data_root+f+'/' for f in os.listdir(data_root)\n",
    "            if f[:2]=='MM']\n",
    "    #X files\n",
    "    mapper = lambda root: [root+f for f in os.listdir(root) if f[-4:]=='.cnt'][0]\n",
    "    cnt_files = sorted(map(mapper, data_dirs))\n",
    "    #Y files\n",
    "    mapper = lambda root: [root+f for f in os.listdir(root) if f=='epoch_inds.mat'][0]\n",
    "    ind_files = sorted(map(mapper, data_dirs))\n",
    "    # process X\n",
    "    channel_range = np.arange(0,64)\n",
    "    channel_dict = {name:i for i,name in enumerate(\n",
    "            mne.io.read_raw_cnt(f, None, date_format=\"dd/mm/yy\").ch_names[:len(channel_range)])}\n",
    "    def m0(f):\n",
    "        obj = mne.io.read_raw_cnt(f, None, date_format=\"dd/mm/yy\")\n",
    "        df = obj.to_data_frame()\n",
    "        return df.iloc[:,channel_range]\n",
    "    X_series = map(m0, cnt_files)\n",
    "    # process Y\n",
    "    label_dict = {'clearing_inds': 0, 'thinking_inds': 1, 'speaking_inds':2}\n",
    "    Y_series = []\n",
    "    for X,f in zip(X_series, ind_files):\n",
    "        ind_dict = io.loadmat(f)\n",
    "        Y = np.zeroes(X.shape[0])\n",
    "        for key,val in label_dict.items():\n",
    "            label = label_dict[key]\n",
    "            #fix dict\n",
    "            ind_dict[key] = np.array(ind_dict[key].tolist()).flatten()\n",
    "            #\n",
    "            for ind0,indf in ind_dict[key]:\n",
    "                Y[ind0-1:indf] = label\n",
    "        Y_series.append(Y)\n",
    "    #\n",
    "    if ret_metadata:\n",
    "        metadata = {'labels': label_dict, 'channels': channel_dict}\n",
    "        return X_series, Y_series, metadata\n",
    "    else:\n",
    "        return X_series, Y_series\n",
    "    \n",
    "    \n",
    "    "
   ]
  },
  {
   "cell_type": "code",
   "execution_count": 14,
   "metadata": {
    "collapsed": false
   },
   "outputs": [
    {
     "name": "stdout",
     "output_type": "stream",
     "text": [
      "0 FP1\n",
      "1 FPZ\n",
      "2 FP2\n",
      "3 AF3\n",
      "4 AF4\n",
      "5 F7\n",
      "6 F5\n",
      "7 F3\n",
      "8 F1\n",
      "9 FZ\n",
      "10 F2\n",
      "11 F4\n",
      "12 F6\n",
      "13 F8\n",
      "14 FT7\n",
      "15 FC5\n",
      "16 FC3\n",
      "17 FC1\n",
      "18 FCZ\n",
      "19 FC2\n",
      "20 FC4\n",
      "21 FC6\n",
      "22 FT8\n",
      "23 T7\n",
      "24 C5\n",
      "25 C3\n",
      "26 C1\n",
      "27 CZ\n",
      "28 C2\n",
      "29 C4\n",
      "30 C6\n",
      "31 T8\n",
      "32 M1\n",
      "33 TP7\n",
      "34 CP5\n",
      "35 CP3\n",
      "36 CP1\n",
      "37 CPZ\n",
      "38 CP2\n",
      "39 CP4\n",
      "40 CP6\n",
      "41 TP8\n",
      "42 M2\n",
      "43 P7\n",
      "44 P5\n",
      "45 P3\n",
      "46 P1\n",
      "47 PZ\n",
      "48 P2\n",
      "49 P4\n",
      "50 P6\n",
      "51 P8\n",
      "52 PO7\n",
      "53 PO5\n",
      "54 PO3\n",
      "55 POZ\n",
      "56 PO4\n",
      "57 PO6\n",
      "58 PO8\n",
      "59 CB1\n",
      "60 O1\n",
      "61 OZ\n",
      "62 O2\n",
      "63 CB2\n",
      "64 VEO\n",
      "65 HEO\n",
      "66 EKG\n",
      "67 EMG\n",
      "68 Trigger\n",
      "69 STI 014\n"
     ]
    }
   ],
   "source": [
    "for i,c in enumerate(data.columns):\n",
    "    print i,c"
   ]
  },
  {
   "cell_type": "code",
   "execution_count": null,
   "metadata": {
    "collapsed": true
   },
   "outputs": [],
   "source": []
  }
 ],
 "metadata": {
  "anaconda-cloud": {},
  "kernelspec": {
   "display_name": "Python 2",
   "language": "python",
   "name": "python2"
  },
  "language_info": {
   "codemirror_mode": {
    "name": "ipython",
    "version": 2
   },
   "file_extension": ".py",
   "mimetype": "text/x-python",
   "name": "python",
   "nbconvert_exporter": "python",
   "pygments_lexer": "ipython2",
   "version": "2.7.12"
  }
 },
 "nbformat": 4,
 "nbformat_minor": 1
}
