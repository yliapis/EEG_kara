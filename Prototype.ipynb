{
 "cells": [
  {
   "cell_type": "code",
   "execution_count": 2,
   "metadata": {
    "collapsed": false
   },
   "outputs": [
    {
     "name": "stdout",
     "output_type": "stream",
     "text": [
      "The autoreload extension is already loaded. To reload it, use:\n",
      "  %reload_ext autoreload\n"
     ]
    }
   ],
   "source": [
    "%matplotlib inline\n",
    "%load_ext autoreload\n",
    "\n",
    "from __future__ import division\n",
    "\n",
    "import numpy as np\n",
    "import os\n",
    "import mne\n",
    "import pandas as pd"
   ]
  },
  {
   "cell_type": "code",
   "execution_count": 3,
   "metadata": {
    "collapsed": false
   },
   "outputs": [
    {
     "name": "stdout",
     "output_type": "stream",
     "text": [
      "/home/yliapis/data/karaOne/MM15/Acquisition 283 Data.cnt\n",
      "/home/yliapis/data/karaOne/MM10/Acquisition 284 Data.cnt\n",
      "/home/yliapis/data/karaOne/MM09/Acquisition 263 Data.cnt\n",
      "/home/yliapis/data/karaOne/MM21/Acquisition 01 Data.cnt\n",
      "/home/yliapis/data/karaOne/MM08/Acquisition 261 Data.cnt\n",
      "/home/yliapis/data/karaOne/MM05/Acquisition 232 Data.cnt\n",
      "/home/yliapis/data/karaOne/MM20/Acquisition 283 Data.cnt\n",
      "/home/yliapis/data/karaOne/MM19/Acquisition 283 Data.cnt\n",
      "/home/yliapis/data/karaOne/MM16/Acquisition 283 Data.cnt\n",
      "/home/yliapis/data/karaOne/MM11/Acquisition 283 Data.cnt\n",
      "/home/yliapis/data/karaOne/MM12/Acquisition 283 Data.cnt\n",
      "/home/yliapis/data/karaOne/MM14/Acquisition 283 Data.cnt\n",
      "/home/yliapis/data/karaOne/MM18/Acquisition 283 Data.cnt\n"
     ]
    }
   ],
   "source": [
    "data_root = \"/home/yliapis/data/karaOne/\"\n",
    "\n",
    "data_dirs = [data_root+f+'/' for f in os.listdir(data_root)\n",
    "            if f[:2]=='MM']\n",
    "\n",
    "mapper = lambda root: [root+f for f in os.listdir(root) if f[-4:]=='.cnt'][0]\n",
    "cnt_files = map(mapper, data_dirs)\n",
    "\n",
    "for c in cnt_files:\n",
    "    print c"
   ]
  },
  {
   "cell_type": "code",
   "execution_count": 4,
   "metadata": {
    "collapsed": false
   },
   "outputs": [
    {
     "name": "stdout",
     "output_type": "stream",
     "text": [
      "['27', '08', '2014'] ['11', '47', '40']\n",
      "The following EEG sensors did not have a position specified in the selected montage: ['FP1', 'FPZ', 'FP2', 'FZ', 'FCZ', 'CZ', 'CPZ', 'PZ', 'POZ', 'CB1', 'OZ', 'CB2', 'VEO', 'HEO', 'EKG', 'EMG', 'Trigger']. Their position has been left untouched.\n"
     ]
    },
    {
     "name": "stderr",
     "output_type": "stream",
     "text": [
      "/home/yliapis/anaconda2/lib/python2.7/site-packages/ipykernel/__main__.py:4: RuntimeWarning: The following EEG sensors did not have a position specified in the selected montage: ['FP1', 'FPZ', 'FP2', 'FZ', 'FCZ', 'CZ', 'CPZ', 'PZ', 'POZ', 'CB1', 'OZ', 'CB2', 'VEO', 'HEO', 'EKG', 'EMG', 'Trigger']. Their position has been left untouched.\n"
     ]
    }
   ],
   "source": [
    "#fdt = data_dirs[0]+'set_files/Acqusition 232 Data.fdt'\n",
    "cnt_file = cnt_files[1]\n",
    "mtg = mne.channels.read_montage('standard_1005')#fdt)\n",
    "f1 = mne.io.read_raw_cnt(cnt_file, mtg)"
   ]
  },
  {
   "cell_type": "code",
   "execution_count": 5,
   "metadata": {
    "collapsed": false
   },
   "outputs": [
    {
     "name": "stdout",
     "output_type": "stream",
     "text": [
      "Converting time column to int64...\n"
     ]
    }
   ],
   "source": [
    "data = f1.to_data_frame()"
   ]
  },
  {
   "cell_type": "code",
   "execution_count": null,
   "metadata": {
    "collapsed": false
   },
   "outputs": [],
   "source": [
    "print data.shape"
   ]
  },
  {
   "cell_type": "code",
   "execution_count": null,
   "metadata": {
    "collapsed": true
   },
   "outputs": [],
   "source": [
    "print 'a'"
   ]
  },
  {
   "cell_type": "code",
   "execution_count": null,
   "metadata": {
    "collapsed": true
   },
   "outputs": [],
   "source": []
  }
 ],
 "metadata": {
  "anaconda-cloud": {},
  "kernelspec": {
   "display_name": "Python [default]",
   "language": "python",
   "name": "python2"
  },
  "language_info": {
   "codemirror_mode": {
    "name": "ipython",
    "version": 2
   },
   "file_extension": ".py",
   "mimetype": "text/x-python",
   "name": "python",
   "nbconvert_exporter": "python",
   "pygments_lexer": "ipython2",
   "version": "2.7.12"
  }
 },
 "nbformat": 4,
 "nbformat_minor": 1
}
