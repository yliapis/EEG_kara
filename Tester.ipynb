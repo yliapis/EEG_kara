{
 "cells": [
  {
   "cell_type": "code",
   "execution_count": 61,
   "metadata": {
    "collapsed": false
   },
   "outputs": [
    {
     "name": "stdout",
     "output_type": "stream",
     "text": [
      "no cv2... continuing...\n"
     ]
    }
   ],
   "source": [
    "%matplotlib inline\n",
    "\n",
    "from __future__ import division\n",
    "\n",
    "import matplotlib.pyplot as plt\n",
    "\n",
    "\n",
    "import pywt\n",
    "import numpy as np\n",
    "\n",
    "from keras.datasets import mnist\n",
    "from metrics import *\n",
    "\n",
    "from sklearn.linear_model import LogisticRegression as LR\n",
    "from sklearn import svm\n",
    "\n",
    "import pywt\n",
    "\n",
    "from data_utils import dim"
   ]
  },
  {
   "cell_type": "code",
   "execution_count": null,
   "metadata": {
    "collapsed": true
   },
   "outputs": [],
   "source": [
    "x = np.random.rand(1000)"
   ]
  },
  {
   "cell_type": "code",
   "execution_count": null,
   "metadata": {
    "collapsed": false
   },
   "outputs": [],
   "source": [
    "epsilon = 1e-9\n",
    "mse = lambda y,y_hat : np.abs(sum((y-y_hat)**2/np.maximum(epsilon, y**2)))\n",
    "\n",
    "x_hat = np.fft.ifft(np.fft.fft(x))\n",
    "\n",
    "from scipy import fftpack\n",
    "\n",
    "x_hat2 = fftpack.ifft(fftpack.fft(x))\n",
    "\n",
    "power = lambda x: np.sum(x**2)\n",
    "\n",
    "plt.plot(x_hat)\n",
    "print mse(x[:], x_hat[:])\n",
    "print mse(x, x_hat2)\n",
    "print x_hat.dtype\n",
    "print power(np.real(x_hat)), power(np.imag(x_hat))"
   ]
  },
  {
   "cell_type": "code",
   "execution_count": 37,
   "metadata": {
    "collapsed": false
   },
   "outputs": [
    {
     "name": "stdout",
     "output_type": "stream",
     "text": [
      "accuracy: 1.0\n",
      "precision: 1.0\n",
      "recall 1.0\n",
      "accuracy: 0.510967741935\n",
      "precision: 0.510967741935\n",
      "recall 1.0\n"
     ]
    }
   ],
   "source": [
    "\n",
    "ni = 775\n",
    "nd = 2500\n",
    "\n",
    "x = np.random.rand(*(ni, nd))\n",
    "y = np.round(np.random.rand(ni))\n",
    "\n",
    "yy = []\n",
    "yy_ = []\n",
    "\n",
    "n_sim = 1\n",
    "\n",
    "for i in range(n_sim):\n",
    "    model = svm.SVC(cache_size=1000)#LR(n_jobs=-1)\n",
    "    model.fit(x, y)\n",
    "    yy.extend(y)\n",
    "    yy_.extend(model.predict(x))\n",
    "\n",
    "metrics(yy, y)\n",
    "metrics(yy, yy_)"
   ]
  },
  {
   "cell_type": "code",
   "execution_count": 21,
   "metadata": {
    "collapsed": false
   },
   "outputs": [],
   "source": [
    "(X_train, Y_train), (X_test, Y_test) = mnist.load_data()\n",
    "\n",
    "X_train, X_test = X_train.reshape((-1, 28*28)), X_test.reshape((-1, 28*28))"
   ]
  },
  {
   "cell_type": "code",
   "execution_count": 26,
   "metadata": {
    "collapsed": false
   },
   "outputs": [],
   "source": [
    "XX_train, XX_test = X_train/255, X_test/255"
   ]
  },
  {
   "cell_type": "code",
   "execution_count": null,
   "metadata": {
    "collapsed": false
   },
   "outputs": [],
   "source": [
    "from sklearn import svm\n",
    "from sklearn.metrics import accuracy_score\n",
    "\n",
    "model = svm.SVC(cache_size=1000, decision_function_shape='ovo')\n",
    "model.fit(XX_train, Y_train)\n",
    "\n",
    "print accuracy_score(Y_test, model.predict(XX_test))"
   ]
  },
  {
   "cell_type": "code",
   "execution_count": null,
   "metadata": {
    "collapsed": false
   },
   "outputs": [],
   "source": [
    "from data_utils import *\n",
    "\n",
    "c_f, i_f, d_f = get_data_dirs()\n",
    "\n",
    "for c,i,d in zip(c_f, i_f, d_f):\n",
    "    print c\n",
    "    print i\n",
    "    print d\n",
    "    print"
   ]
  },
  {
   "cell_type": "code",
   "execution_count": 34,
   "metadata": {
    "collapsed": false
   },
   "outputs": [
    {
     "name": "stdout",
     "output_type": "stream",
     "text": [
      "1\n"
     ]
    }
   ],
   "source": [
    "print 1"
   ]
  },
  {
   "cell_type": "code",
   "execution_count": 68,
   "metadata": {
    "collapsed": false
   },
   "outputs": [
    {
     "data": {
      "text/plain": [
       "<matplotlib.figure.Figure at 0x7f323d4c6910>"
      ]
     },
     "execution_count": 68,
     "metadata": {},
     "output_type": "execute_result"
    },
    {
     "data": {
      "image/png": "[encoded data removed]",
      "text/plain": [
       "<matplotlib.figure.Figure at 0x7f323c20e450>"
      ]
     },
     "metadata": {},
     "output_type": "display_data"
    },
    {
     "data": {
      "text/plain": [
       "<matplotlib.figure.Figure at 0x7f323d4c6910>"
      ]
     },
     "metadata": {},
     "output_type": "display_data"
    }
   ],
   "source": [
    "x = np.arange(1000) * np.arange(10)[:,None]\n",
    "plt.imshow(x, aspect='auto')\n",
    "\n",
    "y = np.sin(x*2*np.pi/1000)\n",
    "\n",
    "plt.imshow(y, aspect='auto', interpolation='none')\n",
    "\n",
    "coeffs = pywt.wavedec(y, 'coif2')\n",
    "\n",
    "plt.figure(2)\n"
   ]
  },
  {
   "cell_type": "code",
   "execution_count": 70,
   "metadata": {
    "collapsed": false
   },
   "outputs": [
    {
     "name": "stdout",
     "output_type": "stream",
     "text": [
      "(10, 1000)\n"
     ]
    },
    {
     "data": {
      "text/plain": [
       "<matplotlib.image.AxesImage at 0x7f323d950a90>"
      ]
     },
     "execution_count": 70,
     "metadata": {},
     "output_type": "execute_result"
    },
    {
     "data": {
      "image/png": "[encoded data removed]",
      "text/plain": [
       "<matplotlib.figure.Figure at 0x7f323d8e7990>"
      ]
     },
     "metadata": {},
     "output_type": "display_data"
    }
   ],
   "source": [
    "w = np.array(coeffs[0])\n",
    "print w.shape\n",
    "\n",
    "plt.imshow(w, aspect='auto', interpolation='none')"
   ]
  },
  {
   "cell_type": "code",
   "execution_count": 71,
   "metadata": {
    "collapsed": false
   },
   "outputs": [
    {
     "name": "stdout",
     "output_type": "stream",
     "text": [
      "10 1000 \n"
     ]
    }
   ],
   "source": [
    "dim(y)"
   ]
  },
  {
   "cell_type": "code",
   "execution_count": 82,
   "metadata": {
    "collapsed": false
   },
   "outputs": [
    {
     "data": {
      "text/plain": [
       "<matplotlib.image.AxesImage at 0x7f3236397ed0>"
      ]
     },
     "execution_count": 82,
     "metadata": {},
     "output_type": "execute_result"
    },
    {
     "data": {
      "image/png": "[encoded data removed]",
      "text/plain": [
       "<matplotlib.figure.Figure at 0x7f323d8e7b50>"
      ]
     },
     "metadata": {},
     "output_type": "display_data"
    }
   ],
   "source": [
    "w2 = []\n",
    "for i,s in enumerate(y):\n",
    "    coeffs = pywt.wavedec(s, 'coif1')\n",
    "    coeffs = np.array([i for j in coeffs for i in j])\n",
    "    w2.append(coeffs)\n",
    "\n",
    "w2 = np.array(w2)[:,:100]    \n",
    "    \n",
    "plt.imshow(w2, aspect='auto', interpolation='none')"
   ]
  },
  {
   "cell_type": "code",
   "execution_count": null,
   "metadata": {
    "collapsed": true
   },
   "outputs": [],
   "source": []
  }
 ],
 "metadata": {
  "anaconda-cloud": {},
  "kernelspec": {
   "display_name": "Python [default]",
   "language": "python",
   "name": "python2"
  },
  "language_info": {
   "codemirror_mode": {
    "name": "ipython",
    "version": 2
   },
   "file_extension": ".py",
   "mimetype": "text/x-python",
   "name": "python",
   "nbconvert_exporter": "python",
   "pygments_lexer": "ipython2",
   "version": "2.7.12"
  }
 },
 "nbformat": 4,
 "nbformat_minor": 1
}
