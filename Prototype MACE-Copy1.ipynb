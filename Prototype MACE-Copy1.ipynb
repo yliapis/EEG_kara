{
 "cells": [
  {
   "cell_type": "code",
   "execution_count": 53,
   "metadata": {
    "collapsed": false
   },
   "outputs": [
    {
     "name": "stdout",
     "output_type": "stream",
     "text": [
      "The autoreload extension is already loaded. To reload it, use:\n",
      "  %reload_ext autoreload\n"
     ]
    }
   ],
   "source": [
    "%matplotlib inline\n",
    "%load_ext autoreload \n",
    "%autoreload 2\n",
    "\n",
    "from __future__ import division\n",
    "\n",
    "import numpy as np\n",
    "import os\n",
    "#import mne\n",
    "import pandas as pd\n",
    "import matplotlib.pyplot as plt\n",
    "\n",
    "from scipy import io, signal\n",
    "\n",
    "from data_utils import *\n",
    "from preprocessing import *\n",
    "from models import *\n",
    "from metrics import *\n",
    "\n",
    "from sklearn.linear_model import LogisticRegression as LR"
   ]
  },
  {
   "cell_type": "code",
   "execution_count": 68,
   "metadata": {
    "collapsed": false
   },
   "outputs": [
    {
     "name": "stdout",
     "output_type": "stream",
     "text": [
      "Converting time column to int64...\n",
      "Converting time column to int64...\n",
      "Converting time column to int64...\n",
      "Converting time column to int64...\n",
      "Converting time column to int64...\n",
      "Converting time column to int64...\n",
      "Converting time column to int64...\n",
      "Converting time column to int64...\n",
      "Converting time column to int64...\n",
      "Converting time column to int64...\n",
      "Converting time column to int64...\n",
      "Converting time column to int64...\n",
      "Converting time column to int64...\n",
      "inconsistent number of epochs and labels:                        \n",
      "\t expected:132 have:132\n"
     ]
    }
   ],
   "source": [
    "X_s, Y_s, Y_l = import_data(-1, downsample=5)"
   ]
  },
  {
   "cell_type": "code",
   "execution_count": 37,
   "metadata": {
    "collapsed": false
   },
   "outputs": [
    {
     "name": "stdout",
     "output_type": "stream",
     "text": [
      "ratio of true:false :  0.331462715491\n"
     ]
    }
   ],
   "source": [
    "X, Y = X_s[0], Y_s[0]\n",
    "\n",
    "label = 1\n",
    "Y = (Y == label).astype(float)\n",
    "X, Y = window_series(X, Y, width=500, fs=200, stride=100)\n",
    "\n",
    "def split(x, split=.33):\n",
    "    point = int(len(x)*split)\n",
    "    return x[:point], x[point:]\n",
    "\n",
    "(X_train, X_test), (Y_train, Y_test) = map(split, (X, Y))\n",
    "\n",
    "print \"ratio of true:false : \", sum(Y)/len(Y)"
   ]
  },
  {
   "cell_type": "code",
   "execution_count": 16,
   "metadata": {
    "collapsed": false
   },
   "outputs": [],
   "source": [
    "lim = 1000\n",
    "XX_train, XX_test, YY_train, YY_test = map(lambda x: [x[i] for i in np.random.permutation(len(x))][:lim], [X_train, X_test, Y_train, Y_test])"
   ]
  },
  {
   "cell_type": "code",
   "execution_count": 17,
   "metadata": {
    "collapsed": false
   },
   "outputs": [
    {
     "name": "stdout",
     "output_type": "stream",
     "text": [
      "(6400, 1000) (1000, 1000) (1000, 1)\n"
     ]
    }
   ],
   "source": [
    "model = MACE_filter()\n",
    "Yscore_pred = model.fit(XX_train, YY_train).predict_score(XX_test)"
   ]
  },
  {
   "cell_type": "code",
   "execution_count": 19,
   "metadata": {
    "collapsed": false
   },
   "outputs": [
    {
     "name": "stdout",
     "output_type": "stream",
     "text": [
      "1.93514708601e-27\n",
      "1.25162047847e-27\n"
     ]
    }
   ],
   "source": [
    "power = lambda x: np.sum(x**2)\n",
    "\n",
    "print power(np.real(model.H))\n",
    "print power(np.imag(model.H))"
   ]
  },
  {
   "cell_type": "code",
   "execution_count": null,
   "metadata": {
    "collapsed": false
   },
   "outputs": [],
   "source": [
    "plt.imshow(win1)\n",
    "plt.colorbar()"
   ]
  },
  {
   "cell_type": "code",
   "execution_count": null,
   "metadata": {
    "collapsed": false
   },
   "outputs": [],
   "source": [
    "H = model.H.reshape(64,100)\n",
    "plt.imshow(np.abs(fftpack.ifft2(H)))\n",
    "plt.colorbar()"
   ]
  },
  {
   "cell_type": "code",
   "execution_count": null,
   "metadata": {
    "collapsed": false
   },
   "outputs": [],
   "source": [
    "# test\n",
    "H = model.H.squeeze()\n",
    "mapper = lambda win: np.abs(fftpack.fft2(win).reshape(-1).dot(H))**2\n",
    "Y_pred = map(mapper, X_test)"
   ]
  },
  {
   "cell_type": "code",
   "execution_count": null,
   "metadata": {
    "collapsed": false
   },
   "outputs": [],
   "source": [
    "end = 2000\n",
    "t = np.linspace(0,len(Y_test)/(200/20), len(Y_test))[:end]\n",
    "\n",
    "\n",
    "plt.plot(t, np.array(Y_pred)[:end]/max(Y_pred[:end]))\n",
    "plt.plot(t, np.array(Y_test)[:end])"
   ]
  },
  {
   "cell_type": "code",
   "execution_count": null,
   "metadata": {
    "collapsed": false
   },
   "outputs": [],
   "source": [
    "plt.plot(Y[:10000])\n",
    "plt.plot(Y_s[0][:10000])\n",
    "plt.plot((Y_s[0][:10000]==3).astype(float))"
   ]
  },
  {
   "cell_type": "code",
   "execution_count": null,
   "metadata": {
    "collapsed": false
   },
   "outputs": [],
   "source": [
    "# training set\n",
    "H = model.H.squeeze()\n",
    "mapper = lambda win: np.abs(fftpack.fft2(win).reshape(-1).dot(H))**2\n",
    "Y_pred2 = map(mapper, X_train)\n",
    "#\n",
    "\n",
    "end = 8000\n",
    "t = np.linspace(0,len(Y_train)/(200/20), len(Y_train))[:end]\n",
    "\n",
    "\n",
    "plt.plot(t, np.array(Y_pred2)[:end]/max(Y_pred2[:end]))\n",
    "plt.plot(t, np.array(Y_train)[:end])"
   ]
  },
  {
   "cell_type": "code",
   "execution_count": null,
   "metadata": {
    "collapsed": false
   },
   "outputs": [],
   "source": [
    "win1.shape"
   ]
  },
  {
   "cell_type": "code",
   "execution_count": null,
   "metadata": {
    "collapsed": false
   },
   "outputs": [],
   "source": [
    "e = 100\n",
    "y = Y_s[0][0:200*e]\n",
    "secs = np.linspace(0, e, y.shape[0])\n",
    "plt.plot(secs, y)"
   ]
  },
  {
   "cell_type": "code",
   "execution_count": null,
   "metadata": {
    "collapsed": false
   },
   "outputs": [],
   "source": [
    "win1 = X[0]\n",
    "dim(win1)\n",
    "win1.dtype\n",
    "\n",
    "winf = dft2(win1)\n",
    "dim(winf)\n",
    "winf."
   ]
  },
  {
   "cell_type": "code",
   "execution_count": null,
   "metadata": {
    "collapsed": true
   },
   "outputs": [],
   "source": [
    "from sklearn.metrics import roc_curve\n",
    "\n",
    "roc_train = roc_curve(Y_train, Y_pred2)\n",
    "roc_test = roc_curve(Y_test, Y_pred)"
   ]
  },
  {
   "cell_type": "code",
   "execution_count": null,
   "metadata": {
    "collapsed": false
   },
   "outputs": [],
   "source": [
    "plt.plot(*roc_test[:2])"
   ]
  },
  {
   "cell_type": "code",
   "execution_count": 74,
   "metadata": {
    "collapsed": false,
    "scrolled": false
   },
   "outputs": [
    {
     "name": "stdout",
     "output_type": "stream",
     "text": [
      "ratio of true:false :  0.5\n",
      "fit\n",
      "accuracy: 0.642597087379\n",
      "precision: 0.65006385696\n",
      "recall 0.617718446602\n",
      "predict\n",
      "accuracy: 0.505756578947\n",
      "precision: 0.503987846563\n",
      "recall 0.727521929825\n"
     ]
    }
   ],
   "source": [
    "# try LR instead\n",
    "subj = 4\n",
    "X, Y = X_s[subj], Y_s[subj]\n",
    "\n",
    "\n",
    "label = 4\n",
    "Y = (Y == label).astype(float)\n",
    "X, Y = window_series(X, Y, width=500, fs=200, stride=100)\n",
    "\n",
    "\n",
    "def split(x, split=.33):\n",
    "    point = int(len(x)*split)\n",
    "    return x[:point], x[point:]\n",
    "\n",
    "(X3_train, X3_test), (Y3_train, Y3_test) = map(split, (X, Y))\n",
    "\n",
    "bal = True\n",
    "if bal:\n",
    "    (X3_train, Y3_train), (X3_test, Y3_test) = map(balance, (X3_train, X3_test), (Y3_train, Y3_test))\n",
    "\n",
    "print \"ratio of true:false : \", sum(list(Y3_train) + (Y3_test))/(len(Y3_train)+len(Y3_test))\n",
    "\n",
    "mapper = lambda win: demean(window_psd(win, fs=200).reshape(-1))\n",
    "X3_train, X3_test = rec_map(mapper, [X3_train, X3_test], 2)\n",
    "\n",
    "model = LR(n_jobs=-1)\n",
    "\n",
    "Y3_pred = model.fit(X3_train, Y3_train).predict(X3_test)\n",
    "print \"fit\"\n",
    "metrics(Y3_train, model.predict(X3_train))\n",
    "print \"predict\"\n",
    "metrics(Y3_test, Y3_pred)"
   ]
  },
  {
   "cell_type": "code",
   "execution_count": 33,
   "metadata": {
    "collapsed": false
   },
   "outputs": [
    {
     "data": {
      "text/plain": [
       "[<matplotlib.lines.Line2D at 0x7f0ae4f35d10>]"
      ]
     },
     "execution_count": 33,
     "metadata": {},
     "output_type": "execute_result"
    },
    {
     "data": {
      "image/png": "[encoded data removed]",
      "text/plain": [
       "<matplotlib.figure.Figure at 0x7f0ae4f35e50>"
      ]
     },
     "metadata": {},
     "output_type": "display_data"
    }
   ],
   "source": [
    "plt.plot(Y3_test[:5000])\n",
    "plt.plot(Y3_pred[:5000])"
   ]
  },
  {
   "cell_type": "code",
   "execution_count": 38,
   "metadata": {
    "collapsed": false
   },
   "outputs": [
    {
     "data": {
      "text/plain": [
       "[<matplotlib.lines.Line2D at 0x7f0ad5afb8d0>]"
      ]
     },
     "execution_count": 38,
     "metadata": {},
     "output_type": "execute_result"
    },
    {
     "data": {
      "image/png": "[encoded data removed]",
      "text/plain": [
       "<matplotlib.figure.Figure at 0x7f0ad55811d0>"
      ]
     },
     "metadata": {},
     "output_type": "display_data"
    }
   ],
   "source": [
    "plt.plot(Y_s[0][:10000])"
   ]
  },
  {
   "cell_type": "code",
   "execution_count": null,
   "metadata": {
    "collapsed": true
   },
   "outputs": [],
   "source": []
  }
 ],
 "metadata": {
  "anaconda-cloud": {},
  "kernelspec": {
   "display_name": "Python [default]",
   "language": "python",
   "name": "python2"
  },
  "language_info": {
   "codemirror_mode": {
    "name": "ipython",
    "version": 2
   },
   "file_extension": ".py",
   "mimetype": "text/x-python",
   "name": "python",
   "nbconvert_exporter": "python",
   "pygments_lexer": "ipython2",
   "version": "2.7.12"
  }
 },
 "nbformat": 4,
 "nbformat_minor": 1
}
