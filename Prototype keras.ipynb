{
 "cells": [
  {
   "cell_type": "code",
   "execution_count": 30,
   "metadata": {
    "collapsed": false
   },
   "outputs": [
    {
     "name": "stdout",
     "output_type": "stream",
     "text": [
      "The autoreload extension is already loaded. To reload it, use:\n",
      "  %reload_ext autoreload\n"
     ]
    }
   ],
   "source": [
    "%matplotlib inline\n",
    "%load_ext autoreload \n",
    "%autoreload 2\n",
    "\n",
    "from __future__ import division\n",
    "\n",
    "import numpy as np\n",
    "import os\n",
    "import mne\n",
    "import pandas as pd\n",
    "import matplotlib.pyplot as plt\n",
    "\n",
    "from scipy import io\n",
    "\n",
    "from data_utils import *\n",
    "from preprocessing import *\n",
    "\n",
    "from keras.utils import np_utils\n",
    "from keras.models import Sequential\n",
    "from keras.layers.core import Dense, Dropout, Activation,Flatten\n",
    "from keras.callbacks import EarlyStopping\n",
    "\n",
    "from sklearn.metrics import accuracy_score\n",
    "\n",
    "# import xgboost as xgb"
   ]
  },
  {
   "cell_type": "code",
   "execution_count": 31,
   "metadata": {
    "collapsed": false
   },
   "outputs": [
    {
     "name": "stdout",
     "output_type": "stream",
     "text": [
      "Converting time column to int64...\n",
      "2 1 3 7701 64 400 \n"
     ]
    }
   ],
   "source": [
    "data = standard_import(1, nstride=50, filt='letter')\n",
    "dim(data)           "
   ]
  },
  {
   "cell_type": "code",
   "execution_count": 32,
   "metadata": {
    "collapsed": false
   },
   "outputs": [
    {
     "name": "stdout",
     "output_type": "stream",
     "text": [
      "1 3 7701 3417 \n",
      "1 3 7701 \n"
     ]
    }
   ],
   "source": [
    "X, Y = pipeline_standard(data[0]), data[1]\n",
    "\n",
    "dim(X)\n",
    "dim(Y)\n",
    "\n",
    "X0, Y0 = X[0], Y[0]\n",
    "\n",
    "X_train, X_valid, X_test = X0\n",
    "Y_train, Y_valid, Y_test = Y0\n",
    "\n",
    "X_train, X_valid, X_test = map(np.array, (X_train, X_valid, X_test))\n",
    "Y_train, Y_valid, Y_test = map(np.array, (Y_train, Y_valid, Y_test))\n",
    "\n",
    "Y_train_, Y_valid_, Y_test_ = map(to_cat, (Y_train, Y_valid, Y_test))"
   ]
  },
  {
   "cell_type": "code",
   "execution_count": 33,
   "metadata": {
    "collapsed": false
   },
   "outputs": [
    {
     "data": {
      "text/plain": [
       "<keras.callbacks.History at 0x7f8c67e73210>"
      ]
     },
     "execution_count": 33,
     "metadata": {},
     "output_type": "execute_result"
    }
   ],
   "source": [
    "def create_model(input_len,output_len):\n",
    "\n",
    "    model = Sequential()\n",
    "    \n",
    "    model.add(Dense(output_len, input_dim=input_len))\n",
    "    model.add(Activation('softmax'))\n",
    "\n",
    "    model.compile(loss='categorical_crossentropy', optimizer=\"adadelta\")\n",
    "\n",
    "    return model\n",
    "\n",
    "\n",
    "model = create_model(X_train.shape[-1], Y_train_.shape[-1])\n",
    "\n",
    "stopper = EarlyStopping(monitor='val_loss', patience=4, verbose=0, mode='min')\n",
    "model.fit(X_train, Y_train_, batch_size=128, nb_epoch=128, \n",
    "    verbose=0, validation_split=0.1, callbacks=[stopper])\n",
    "\n"
   ]
  },
  {
   "cell_type": "code",
   "execution_count": 34,
   "metadata": {
    "collapsed": false
   },
   "outputs": [
    {
     "name": "stdout",
     "output_type": "stream",
     "text": [
      "1920/1920 [==============================] - 0s     \n"
     ]
    }
   ],
   "source": [
    "Y_pred = model.predict_classes(X_test)"
   ]
  },
  {
   "cell_type": "code",
   "execution_count": 35,
   "metadata": {
    "collapsed": false
   },
   "outputs": [
    {
     "name": "stdout",
     "output_type": "stream",
     "text": [
      "0.1359375\n"
     ]
    }
   ],
   "source": [
    "print accuracy_score(Y_test, Y_pred)"
   ]
  },
  {
   "cell_type": "code",
   "execution_count": 10,
   "metadata": {
    "collapsed": false
   },
   "outputs": [
    {
     "name": "stdout",
     "output_type": "stream",
     "text": [
      "7701 2560 \n"
     ]
    }
   ],
   "source": [
    "dim(X_train)"
   ]
  },
  {
   "cell_type": "code",
   "execution_count": 11,
   "metadata": {
    "collapsed": false
   },
   "outputs": [
    {
     "name": "stdout",
     "output_type": "stream",
     "text": [
      "1920/1920 [==============================] - 0s     \n",
      "0.1421875\n"
     ]
    }
   ],
   "source": [
    "def create_mlp(input_len, output_len):\n",
    "\n",
    "    model = Sequential()\n",
    "    \n",
    "    model.add(Dense(500, input_dim=input_len))\n",
    "    model.add(Activation('tanh'))\n",
    "    model.add(Dense(output_len))\n",
    "    model.add(Activation('softmax'))\n",
    "\n",
    "    model.compile(loss='categorical_crossentropy', optimizer=\"adadelta\")\n",
    "\n",
    "    return model\n",
    "\n",
    "\n",
    "model = create_mlp(X_train.shape[-1], Y_train_.shape[-1])\n",
    "\n",
    "stopper = EarlyStopping(monitor='val_loss', patience=4, verbose=0, mode='min')\n",
    "\n",
    "model.fit(X_train, Y_train_, batch_size=128, nb_epoch=128, \n",
    "    verbose=0, validation_split=0.1, callbacks=[stopper])\n",
    "\n",
    "Y_pred = model.predict_classes(X_test)\n",
    "\n",
    "print accuracy_score(Y_test, Y_pred)"
   ]
  },
  {
   "cell_type": "code",
   "execution_count": null,
   "metadata": {
    "collapsed": true
   },
   "outputs": [],
   "source": [
    "from sklearn.metrics import"
   ]
  },
  {
   "cell_type": "code",
   "execution_count": 24,
   "metadata": {
    "collapsed": false
   },
   "outputs": [
    {
     "data": {
      "text/plain": [
       "array([False, False, False, False,  True,  True,  True,  True,  True, False], dtype=bool)"
      ]
     },
     "execution_count": 24,
     "metadata": {},
     "output_type": "execute_result"
    }
   ],
   "source": [
    "(a<9) * (a>3)"
   ]
  },
  {
   "cell_type": "code",
   "execution_count": null,
   "metadata": {
    "collapsed": true
   },
   "outputs": [],
   "source": []
  }
 ],
 "metadata": {
  "anaconda-cloud": {},
  "kernelspec": {
   "display_name": "Python [default]",
   "language": "python",
   "name": "python2"
  },
  "language_info": {
   "codemirror_mode": {
    "name": "ipython",
    "version": 2
   },
   "file_extension": ".py",
   "mimetype": "text/x-python",
   "name": "python",
   "nbconvert_exporter": "python",
   "pygments_lexer": "ipython2",
   "version": "2.7.12"
  }
 },
 "nbformat": 4,
 "nbformat_minor": 1
}
