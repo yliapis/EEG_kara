{
 "cells": [
  {
   "cell_type": "code",
   "execution_count": 64,
   "metadata": {
    "collapsed": false
   },
   "outputs": [
    {
     "name": "stdout",
     "output_type": "stream",
     "text": [
      "The autoreload extension is already loaded. To reload it, use:\n",
      "  %reload_ext autoreload\n"
     ]
    }
   ],
   "source": [
    "%matplotlib inline\n",
    "%load_ext autoreload \n",
    "%autoreload 2\n",
    "\n",
    "from __future__ import division\n",
    "\n",
    "import numpy as np\n",
    "import os\n",
    "#import mne\n",
    "import pandas as pd\n",
    "import matplotlib.pyplot as plt\n",
    "\n",
    "from scipy import io, signal\n",
    "\n",
    "from data_utils import *\n",
    "from preprocessing import *\n",
    "from models import *\n",
    "from metrics import *\n",
    "\n",
    "from sklearn.linear_model import LogisticRegression as LR\n",
    "from sklearn import svm\n",
    "\n",
    "from keras.models import Sequential\n",
    "from keras.layers.core import Dense, Dropout, Activation, Flatten\n",
    "from keras.callbacks import EarlyStopping\n",
    "\n",
    "from sklearn.metrics import accuracy_score"
   ]
  },
  {
   "cell_type": "code",
   "execution_count": 104,
   "metadata": {
    "collapsed": false
   },
   "outputs": [
    {
     "name": "stdout",
     "output_type": "stream",
     "text": [
      "FP1 0 \tFPZ 1 \tFP2 2 \tAF3 3 \tAF4 4 \tF7 5 \tF5 6 \tF3 7 \tF1 8 \tFZ 9 \tF2 10 \tF4 11 \tF6 12 \tF8 13 \tFT7 14 \tFC5 15 \tFC3 16 \tFC1 17 \tFCZ 18 \tFC2 19 \tFC4 20 \tFC6 21 \tFT8 22 \tT7 23 \tC5 24 \tC3 25 \tC1 26 \tCZ 27 \tC2 28 \tC4 29 \tC6 30 \tT8 31 \tM1 32 \tTP7 33 \tCP5 34 \tCP3 35 \tCP1 36 \tCPZ 37 \tCP2 38 \tCP4 39 \tCP6 40 \tTP8 41 \tM2 42 \tP7 43 \tP5 44 \tP3 45 \tP1 46 \tPZ 47 \tP2 48 \tP4 49 \tP6 50 \tP8 51 \tPO7 52 \tPO5 53 \tPO3 54 \tPOZ 55 \tPO4 56 \tPO6 57 \tPO8 58 \tCB1 59 \tO1 60 \tOZ 61 \tO2 62 \tCB2 63 \tVEO 64 \tHEO 65 \tEKG 66 \tEMG 67 \tTrigger 68 \tSTI 014 69 \t"
     ]
    }
   ],
   "source": [
    "for key,value in sorted(ch_dict.items(), key=lambda x: x[1]):\n",
    "    print key,value,'\\t',"
   ]
  },
  {
   "cell_type": "code",
   "execution_count": 72,
   "metadata": {
    "collapsed": false
   },
   "outputs": [
    {
     "name": "stdout",
     "output_type": "stream",
     "text": [
      "Converting time column to int64...\n"
     ]
    }
   ],
   "source": [
    "X_s, Y_s, Y_l, ch_dict = import_data(1, downsample=5,\n",
    "                                     ch_dict=True, bp_range=(0.5,40))"
   ]
  },
  {
   "cell_type": "code",
   "execution_count": 108,
   "metadata": {
    "collapsed": false,
    "scrolled": true
   },
   "outputs": [
    {
     "name": "stdout",
     "output_type": "stream",
     "text": [
      "number of channels used: 62\n",
      "1104 62 400 \n",
      "546 62 400 \n",
      "train:test : 1104 546\n",
      "ratio of true:false :  0.5\n",
      "N train:1104 N test:546\n",
      "(1104, 2542)\n",
      "(546, 2542)\n"
     ]
    }
   ],
   "source": [
    "# state vs rest\n",
    "subj = 0\n",
    "X, Y = X_s[subj], Y_s[subj]\n",
    "#Y = narrow(Y, 4, .2, 1)\n",
    "\n",
    "if False:\n",
    "    channs = 'FC6 FT8 C4 T7 C5 C3 CP5 CP3 CP1 P3'.split()\n",
    "    channs = map(lambda ch: ch_dict[ch], channs)\n",
    "    X = X[:, channs]\n",
    "elif False:\n",
    "    channs = range(64)\n",
    "    channs.remove(32)\n",
    "    channs.remove(42) #remove m1, m2\n",
    "    X = X[:, channs]\n",
    "elif False:\n",
    "    X = X[:,67][:,None]\n",
    "print \"number of channels used:\", X.shape[1]\n",
    "\n",
    "fs = 200\n",
    "window_size = 2000\n",
    "window_stride = 500\n",
    "num_wins = 5\n",
    "# choose labels to compare\n",
    "label = 3\n",
    "rest = 1\n",
    "\n",
    "# locate labels\n",
    "Y_1 = (Y == label).astype(int)\n",
    "Y_0 = (Y == rest).astype(int)\n",
    "diff0, diff1 = np.diff(Y_0), np.diff(Y_1)\n",
    "# compute window limits\n",
    "start0, end0 = map(lambda x: np.where(x)[0], [diff0>0, diff0<0])\n",
    "start1, end1 = map(lambda x: np.where(x)[0], [diff1>0, diff1<0])\n",
    "\n",
    "mapper = lambda lims: X[lims[0]:lims[1]]\n",
    "X0, X1 = rec_map(mapper, [zip(start0, end0), zip(start1, end1)], 2)\n",
    "# window series\n",
    "mapper = lambda win: window_series(win, width=window_size, \n",
    "                                   stride=window_stride, fs=fs, num_wins=num_wins)\n",
    "X0, X1 = rec_map(mapper, [X0, X1], 2)\n",
    "# flatten windows\n",
    "mapper = lambda x: [i for j in x for i in j]\n",
    "X0, X1 = map(mapper, [X0, X1])\n",
    "# split data\n",
    "X0_train, X0_test = split(X0)\n",
    "X1_train, X1_test = split(X1)\n",
    "X_train, X_test = map(np.concatenate, [[X0_train, X1_train], [X0_test, X1_test]])\n",
    "# create label vectors\n",
    "Y0_train, Y0_test = np.zeros(len(X0_train)), np.zeros(len(X0_test))\n",
    "Y1_train, Y1_test = np.ones(len(X1_train)), np.ones(len(X1_test))\n",
    "Y_train, Y_test = map(np.concatenate, [[Y0_train, Y1_train], [Y0_test, Y1_test]])\n",
    "# verify dimensions\n",
    "dim(X_train)\n",
    "dim(X_test)\n",
    "\n",
    "print \"train:test :\", len(X_train), len(X_test)\n",
    "\n",
    "\n",
    "\n",
    "(X3_train, Y3_train), (X3_test, Y3_test) = (X_train, Y_train), (X_test, Y_test)\n",
    "\n",
    "bal = True\n",
    "if bal:\n",
    "    (X3_train, Y3_train), (X3_test, Y3_test) = map(balance, (X3_train, X3_test), (Y3_train, Y3_test))\n",
    "    #_, (X3_test, Y3_test) = map(balance, (X3_train, X3_test), (Y3_train, Y3_test))\n",
    "\n",
    "print \"ratio of true:false : \", sum(list(Y3_train) + list(Y3_test))/(len(Y3_train)+len(Y3_test))\n",
    "print \"N train:{} N test:{}\".format(len(X3_train),len(X3_test))\n",
    "#mapper = lambda wins: feature_vect(wins, 5, norm=True)\n",
    "\n",
    "ftype = 1\n",
    "norm = True\n",
    "\n",
    "\n",
    "X3_train, means, stds = feature_vect(X3_train, ftype, trim=False, norm=norm)\n",
    "X3_test, _, _ = feature_vect(X3_test, ftype, trim=False, norm=norm)"
   ]
  },
  {
   "cell_type": "code",
   "execution_count": 109,
   "metadata": {
    "collapsed": false,
    "scrolled": false
   },
   "outputs": [
    {
     "name": "stdout",
     "output_type": "stream",
     "text": [
      "number of features: 2542\n",
      "fit\n",
      "accuracy: 1.0\n",
      "precision: 1.0\n",
      "recall 1.0\n",
      "predict\n",
      "accuracy: 0.771062271062\n",
      "precision: 0.768115942029\n",
      "recall 0.776556776557\n"
     ]
    }
   ],
   "source": [
    "# model fit\n",
    "if False:\n",
    "    mapper = lambda x: x[mu_keeps]\n",
    "    X3_train, X3_test = rec_map(mapper, [X3_train, X3_test], 2)\n",
    "\n",
    "X_tr, Y_tr = X3_train, Y3_train\n",
    "X_ts, Y_ts = X3_test, Y3_test\n",
    "\n",
    "mtype = 'LR'\n",
    "if mtype == 'LR':\n",
    "    model = LR(n_jobs=-1)\n",
    "elif mtype == 'SVM':\n",
    "    model = svm.SVC(cache_size=1000)\n",
    "elif mtype == 'linSVM':\n",
    "    model = svm.LinearSVC()\n",
    "\n",
    "print \"number of features:\", len(X3_train[0])\n",
    "\n",
    "model.fit(np.asarray(X_tr), np.asarray(Y_tr))\n",
    "\n",
    "Y_pr = model.predict(np.asarray(X_ts))\n",
    "yy = model.predict(np.asarray(X_tr))\n",
    "print \"fit\"\n",
    "metrics(Y_tr, yy)\n",
    "print \"predict\"\n",
    "metrics(Y_ts, Y_pr)"
   ]
  },
  {
   "cell_type": "code",
   "execution_count": null,
   "metadata": {
    "collapsed": true
   },
   "outputs": [],
   "source": []
  },
  {
   "cell_type": "code",
   "execution_count": null,
   "metadata": {
    "collapsed": false
   },
   "outputs": [],
   "source": [
    "#plt.plot(np.std(X3_train, axis=0))\n",
    "#plt.figure(2), plt.plot(stds)\n",
    "#print np.shape(means), np.shape(np.mean(X3_train, axis=0))\n",
    "#print sum(np.std(X3_train, axis=0)==0.0)"
   ]
  },
  {
   "cell_type": "code",
   "execution_count": null,
   "metadata": {
    "collapsed": false
   },
   "outputs": [],
   "source": [
    "keeps = (stds==0.0)\n",
    "print sum(keeps)\n",
    "\n",
    "\n",
    "mapper = lambda v: v[keeps]\n",
    "keeps2 = np.std(map(mapper, X3_train), axis=0)\n",
    "print sum(keeps2)"
   ]
  },
  {
   "cell_type": "code",
   "execution_count": null,
   "metadata": {
    "collapsed": false
   },
   "outputs": [],
   "source": [
    "### TSNE visualization\n",
    "\n",
    "from sklearn.manifold import TSNE\n",
    "if False:\n",
    "    model = TSNE()\n",
    "    Xd = model.fit_transform(map(lambda x: x.flatten(), X_train))\n",
    "    plt.scatter(*Xd.T, c=Y_train, cmap='gray')\n",
    "    \n",
    "if False:\n",
    "    model = TSNE()\n",
    "    Xd = model.fit_transform(X3_train)\n",
    "    plt.scatter(*Xd.T, c=Y3_train, cmap='gray')"
   ]
  },
  {
   "cell_type": "code",
   "execution_count": null,
   "metadata": {
    "collapsed": true
   },
   "outputs": [],
   "source": [
    "xx0, yy0 = map(np.asarray, [X3_train, Y3_train])\n",
    "xx1, yy1 = map(np.asarray, [X3_test, Y3_test])"
   ]
  },
  {
   "cell_type": "code",
   "execution_count": null,
   "metadata": {
    "collapsed": false
   },
   "outputs": [],
   "source": [
    "plt.plot(np.mean(xx0, axis=0))"
   ]
  },
  {
   "cell_type": "code",
   "execution_count": null,
   "metadata": {
    "collapsed": false
   },
   "outputs": [],
   "source": [
    "\n",
    "x0, x1 = xx0[yy0==0], xx0[yy0==1]\n",
    "\n",
    "m00, m01 = x0.mean(0), x1.mean(0)\n",
    "\n",
    "plt.plot(m00)\n",
    "plt.plot(m01)                           \n",
    "\n",
    "###\n",
    "\n",
    "plt.figure(2)\n",
    "\n",
    "\n",
    "\n",
    "x0, x1 = xx1[yy1==0], xx1[yy1==1]\n",
    "\n",
    "m10, m11 = x0.mean(0), x1.mean(0)\n",
    "\n",
    "plt.plot(m10)\n",
    "plt.plot(m11)  \n",
    "\n",
    "plt.figure(3)\n",
    "\n",
    "for i,m in enumerate([m00, m01, m10, m11]):\n",
    "    plt.plot(m[:100], label=str(i))\n",
    "    \n",
    "plt.legend()\n",
    "\n",
    "plt.figure(4)\n",
    "\n",
    "plt.plot(m00-m01)\n",
    "plt.plot(m10-m11)"
   ]
  },
  {
   "cell_type": "code",
   "execution_count": null,
   "metadata": {
    "collapsed": false
   },
   "outputs": [],
   "source": [
    "mu_diff = (m10-m11)-(m00-m01)\n",
    "plt.plot(mu_diff)\n",
    "mu_keeps = np.sign(m11-m10) == np.sign(m01-m00)\n",
    "\n",
    "plt.plot(np.sort(np.abs(mu_diff)))\n",
    "plt.plot(mu_keep.astype(int))"
   ]
  },
  {
   "cell_type": "code",
   "execution_count": null,
   "metadata": {
    "collapsed": false
   },
   "outputs": [],
   "source": [
    "plt.plot(mu_keep[:500])"
   ]
  },
  {
   "cell_type": "code",
   "execution_count": null,
   "metadata": {
    "collapsed": false
   },
   "outputs": [],
   "source": [
    "print x0.shape, x1.shape"
   ]
  },
  {
   "cell_type": "code",
   "execution_count": null,
   "metadata": {
    "collapsed": false
   },
   "outputs": [],
   "source": [
    "_ = plt.plot(np.mean(X3_train, axis=0))\n",
    "_ = plt.plot(np.mean(X3_test, axis=0))\n",
    "\n",
    "plt.figure(2)\n",
    "_ = plt.plot(X3_test[2])"
   ]
  },
  {
   "cell_type": "code",
   "execution_count": null,
   "metadata": {
    "collapsed": false
   },
   "outputs": [],
   "source": [
    "plt.plot(Y3_pred)\n",
    "plt.plot(Y3_test)"
   ]
  },
  {
   "cell_type": "code",
   "execution_count": null,
   "metadata": {
    "collapsed": false
   },
   "outputs": [],
   "source": [
    "np.sign(-32)"
   ]
  },
  {
   "cell_type": "code",
   "execution_count": null,
   "metadata": {
    "collapsed": false
   },
   "outputs": [],
   "source": [
    "xf = signal.spectrogram(X_s[0].T, fs=200)"
   ]
  },
  {
   "cell_type": "code",
   "execution_count": null,
   "metadata": {
    "collapsed": false
   },
   "outputs": [],
   "source": [
    "xf = xf[2]"
   ]
  },
  {
   "cell_type": "code",
   "execution_count": null,
   "metadata": {
    "collapsed": false
   },
   "outputs": [],
   "source": [
    "xf.shape"
   ]
  },
  {
   "cell_type": "code",
   "execution_count": null,
   "metadata": {
    "collapsed": false
   },
   "outputs": [],
   "source": [
    "X_s[0].shape"
   ]
  },
  {
   "cell_type": "code",
   "execution_count": null,
   "metadata": {
    "collapsed": false
   },
   "outputs": [],
   "source": [
    "plt.imshow(xf[3,:20,:], aspect='auto', interpolation='none')\n",
    "plt.colorbar()"
   ]
  },
  {
   "cell_type": "code",
   "execution_count": null,
   "metadata": {
    "collapsed": false
   },
   "outputs": [],
   "source": [
    "X2_s, _, _, _ = import_data(1, downsample=5, \n",
    "                                     ch_dict=True, bp_range=None)"
   ]
  },
  {
   "cell_type": "code",
   "execution_count": null,
   "metadata": {
    "collapsed": true
   },
   "outputs": [],
   "source": [
    "x2f = signal.spectrogram(X2_s[0].T, nperseg=200,fs=200)[2]"
   ]
  },
  {
   "cell_type": "code",
   "execution_count": null,
   "metadata": {
    "collapsed": false
   },
   "outputs": [],
   "source": [
    "plt.imshow(x2f[3,:20,800:1000], aspect='auto', interpolation='none')\n",
    "plt.colorbar()"
   ]
  },
  {
   "cell_type": "code",
   "execution_count": null,
   "metadata": {
    "collapsed": false
   },
   "outputs": [],
   "source": [
    "plt.imshow(X3_test, aspect='auto')\n"
   ]
  },
  {
   "cell_type": "code",
   "execution_count": null,
   "metadata": {
    "collapsed": false
   },
   "outputs": [],
   "source": [
    "dim(X3_test)"
   ]
  },
  {
   "cell_type": "code",
   "execution_count": null,
   "metadata": {
    "collapsed": false
   },
   "outputs": [],
   "source": [
    "2542%62"
   ]
  },
  {
   "cell_type": "code",
   "execution_count": null,
   "metadata": {
    "collapsed": false
   },
   "outputs": [],
   "source": [
    "plt.imshow(X3_train, aspect='auto')"
   ]
  },
  {
   "cell_type": "code",
   "execution_count": null,
   "metadata": {
    "collapsed": true
   },
   "outputs": [],
   "source": []
  }
 ],
 "metadata": {
  "anaconda-cloud": {},
  "kernelspec": {
   "display_name": "Python [default]",
   "language": "python",
   "name": "python2"
  },
  "language_info": {
   "codemirror_mode": {
    "name": "ipython",
    "version": 2
   },
   "file_extension": ".py",
   "mimetype": "text/x-python",
   "name": "python",
   "nbconvert_exporter": "python",
   "pygments_lexer": "ipython2",
   "version": "2.7.12"
  }
 },
 "nbformat": 4,
 "nbformat_minor": 1
}
